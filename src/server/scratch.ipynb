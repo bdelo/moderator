{
 "cells": [
  {
   "cell_type": "code",
   "execution_count": 14,
   "metadata": {
    "collapsed": false,
    "scrolled": true
   },
   "outputs": [],
   "source": [
    "import model\n",
    "from model import DB"
   ]
  },
  {
   "cell_type": "code",
   "execution_count": 16,
   "metadata": {
    "collapsed": false
   },
   "outputs": [
    {
     "name": "stdout",
     "output_type": "stream",
     "text": [
      "\n",
      "users\n",
      "    u_email        VARCHAR(127)   \n",
      "    domain         VARCHAR(127)   \n",
      "    info           JSON           \n",
      "\n",
      "questions\n",
      "    q_id           BIGINT         \n",
      "    e_id           INTEGER        \n",
      "    flagged        BOOLEAN        \n",
      "    flag_note      JSON           \n",
      "    content        JSON           \n",
      "    score          INTEGER        \n",
      "    comment_count  INTEGER        \n",
      "\n",
      "question_likes\n",
      "    q_id           INTEGER        \n",
      "    owner_email    VARCHAR(127)   \n",
      "    score          INTEGER        \n",
      "\n",
      "orgs\n",
      "    domain         VARCHAR(128)   \n",
      "    moderators     JSON           \n",
      "    title          JSON           \n",
      "\n",
      "comment_likes\n",
      "    c_id           INTEGER        \n",
      "    owner_email    VARCHAR(127)   \n",
      "    score          INTEGER        \n",
      "\n",
      "events\n",
      "    e_id           BIGINT         \n",
      "    domain         VARCHAR(127)   \n",
      "    owner_email    VARCHAR(127)   \n",
      "    lookup_id      VARCHAR(64)    \n",
      "    moderators     JSON           \n",
      "    title          VARCHAR(255)   \n",
      "    description    JSON           \n",
      "\n",
      "comments\n",
      "    c_id           BIGINT         \n",
      "    q_id           INTEGER        \n",
      "    owner_email    VARCHAR(127)   \n",
      "    content        JSON           \n",
      "    score          INTEGER        \n"
     ]
    }
   ],
   "source": [
    "for t in dict(DB.meta.tables).keys():\n",
    "    table = DB.meta.tables[t]\n",
    "    print \"\\n\", t\n",
    "    for col in table.columns:\n",
    "        print \"    \" + \"\".join(map(lambda s: \"%-15s\" % s, [col.name, str(col.type)]))"
   ]
  },
  {
   "cell_type": "code",
   "execution_count": 17,
   "metadata": {
    "collapsed": true
   },
   "outputs": [],
   "source": [
    "class Foo:\n",
    "    class Bar:\n",
    "        pass"
   ]
  },
  {
   "cell_type": "code",
   "execution_count": 18,
   "metadata": {
    "collapsed": false
   },
   "outputs": [
    {
     "data": {
      "text/plain": [
       "<class __main__.Bar at 0x110045db8>"
      ]
     },
     "execution_count": 18,
     "metadata": {},
     "output_type": "execute_result"
    }
   ],
   "source": [
    "Foo.Bar"
   ]
  },
  {
   "cell_type": "code",
   "execution_count": null,
   "metadata": {
    "collapsed": true
   },
   "outputs": [],
   "source": []
  }
 ],
 "metadata": {
  "kernelspec": {
   "display_name": "Python 2",
   "language": "python",
   "name": "python2"
  },
  "language_info": {
   "codemirror_mode": {
    "name": "ipython",
    "version": 2
   },
   "file_extension": ".py",
   "mimetype": "text/x-python",
   "name": "python",
   "nbconvert_exporter": "python",
   "pygments_lexer": "ipython2",
   "version": "2.7.11"
  }
 },
 "nbformat": 4,
 "nbformat_minor": 0
}
