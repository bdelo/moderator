{
 "cells": [
  {
   "cell_type": "markdown",
   "metadata": {},
   "source": [
    "# Model scratch\n",
    "\n",
    "Some simple testing stuff. Run this within the virtualenv to test out the configuration. Run all is destructive - don't do this on prod (obv)"
   ]
  },
  {
   "cell_type": "markdown",
   "metadata": {},
   "source": [
    "## Model structure"
   ]
  },
  {
   "cell_type": "code",
   "execution_count": 1,
   "metadata": {
    "collapsed": false,
    "scrolled": true
   },
   "outputs": [
    {
     "name": "stdout",
     "output_type": "stream",
     "text": [
      "\n",
      "question_votes\n",
      "    q_id           INTEGER        \n",
      "    user_email     VARCHAR(127)   \n",
      "    score          INTEGER        \n",
      "\n",
      "users\n",
      "    u_email        VARCHAR(127)   \n",
      "    domain         VARCHAR(127)   \n",
      "    info           JSON           \n",
      "\n",
      "questions\n",
      "    id             BIGINT         \n",
      "    e_id           INTEGER        \n",
      "    flagged        BOOLEAN        \n",
      "    flag_note      JSON           \n",
      "    content        JSON           \n",
      "    score          INTEGER        \n",
      "    comment_count  INTEGER        \n",
      "\n",
      "orgs\n",
      "    domain         VARCHAR(128)   \n",
      "    moderators     JSON           \n",
      "    title          JSON           \n",
      "\n",
      "comment_votes\n",
      "    c_id           INTEGER        \n",
      "    q_id           INTEGER        \n",
      "    user_email     VARCHAR(127)   \n",
      "    score          INTEGER        \n",
      "\n",
      "events\n",
      "    id             BIGINT         \n",
      "    domain         VARCHAR(127)   \n",
      "    owner_email    VARCHAR(127)   \n",
      "    lookup_id      VARCHAR(64)    \n",
      "    moderators     JSON           \n",
      "    title          VARCHAR(255)   \n",
      "    description    JSON           \n",
      "\n",
      "comments\n",
      "    id             BIGINT         \n",
      "    q_id           INTEGER        \n",
      "    owner_email    VARCHAR(127)   \n",
      "    content        JSON           \n",
      "    score          INTEGER        \n"
     ]
    }
   ],
   "source": [
    "import model\n",
    "if True:\n",
    "    for t in dict(model.__DB.meta.tables).keys():\n",
    "        table = model.__DB.meta.tables[t]\n",
    "        print \"\\n\", t\n",
    "        for col in table.columns:\n",
    "            print \"    \" + \"\".join(map(lambda s: \"%-15s\" % s, [col.name, str(col.type)]))"
   ]
  },
  {
   "cell_type": "markdown",
   "metadata": {
    "collapsed": false
   },
   "source": [
    "## test script"
   ]
  },
  {
   "cell_type": "code",
   "execution_count": 2,
   "metadata": {
    "collapsed": false
   },
   "outputs": [],
   "source": [
    "from model import *\n",
    "me = \"david.stein@appboy.com\"\n",
    "first_run = False\n",
    "if first_run:\n",
    "    Org.create(\"appboy.com\", me)\n",
    "    event = Event.create(\"my test event\", me)\n",
    "    question = Question.create(event['lookup_id'], \"this is my question\")\n",
    "org = Org.get(\"appboy.com\", me)\n",
    "event = Event.get(1, me)\n",
    "question = Question.get(1, me)"
   ]
  },
  {
   "cell_type": "code",
   "execution_count": 3,
   "metadata": {
    "collapsed": false
   },
   "outputs": [
    {
     "data": {
      "text/plain": [
       "{'comment_count': 0,\n",
       " 'content': u'this is my question',\n",
       " 'e_id': 1,\n",
       " 'flag_note': [],\n",
       " 'flagged': False,\n",
       " 'id': 1L,\n",
       " 'score': 4}"
      ]
     },
     "execution_count": 3,
     "metadata": {},
     "output_type": "execute_result"
    }
   ],
   "source": [
    "Question.vote(question['id'], \"stein@appboy.com\", 1)\n",
    "Question.vote(question['id'], me, 1)"
   ]
  },
  {
   "cell_type": "code",
   "execution_count": 4,
   "metadata": {
    "collapsed": false
   },
   "outputs": [],
   "source": [
    "if first_run:\n",
    "    Comment.create(question['id'], me, \"this is comment one\")\n",
    "    Comment.create(question['id'], \"david@appboy.com\", \"this is comment two\")"
   ]
  },
  {
   "cell_type": "code",
   "execution_count": 5,
   "metadata": {
    "collapsed": false
   },
   "outputs": [
    {
     "data": {
      "text/plain": [
       "{'comments': [{'content': u'this is comment one',\n",
       "   'id': 1L,\n",
       "   'owner_email': u'david.stein@appboy.com',\n",
       "   'q_id': 1,\n",
       "   'score': 0},\n",
       "  {'content': u'this is comment two',\n",
       "   'id': 2L,\n",
       "   'owner_email': u'david@appboy.com',\n",
       "   'q_id': 1,\n",
       "   'score': 3}],\n",
       " 'question': {'comment_count': 0,\n",
       "  'content': u'this is my question',\n",
       "  'e_id': 1,\n",
       "  'flag_note': [],\n",
       "  'flagged': False,\n",
       "  'id': 1L,\n",
       "  'score': 4}}"
      ]
     },
     "execution_count": 5,
     "metadata": {},
     "output_type": "execute_result"
    }
   ],
   "source": [
    "model.get_question_and_info(question['id'], me)"
   ]
  },
  {
   "cell_type": "code",
   "execution_count": 6,
   "metadata": {
    "collapsed": false
   },
   "outputs": [
    {
     "data": {
      "text/plain": [
       "{'content': u'this is comment two',\n",
       " 'id': 2L,\n",
       " 'owner_email': u'david@appboy.com',\n",
       " 'q_id': 1,\n",
       " 'score': 4}"
      ]
     },
     "execution_count": 6,
     "metadata": {},
     "output_type": "execute_result"
    }
   ],
   "source": [
    "Comment.vote(question_id=1, comment_id=2, user_email=me, score=1)"
   ]
  },
  {
   "cell_type": "code",
   "execution_count": 7,
   "metadata": {
    "collapsed": false
   },
   "outputs": [
    {
     "data": {
      "text/plain": [
       "[{'description': u'my test event',\n",
       "  'domain': u'appboy.com',\n",
       "  'id': 1L,\n",
       "  'lookup_id': u'65c27af4ed1f75acf29c47ab75beb2b2',\n",
       "  'moderators': [u'davidb.tein@appboy.com', u'david.stein@appboy.com'],\n",
       "  'owner_email': u'david.stein@appboy.com',\n",
       "  'title': u'my test event'}]"
      ]
     },
     "execution_count": 7,
     "metadata": {},
     "output_type": "execute_result"
    }
   ],
   "source": [
    "events = model.list_events(me)"
   ]
  },
  {
   "cell_type": "code",
   "execution_count": 8,
   "metadata": {
    "collapsed": false
   },
   "outputs": [
    {
     "ename": "NameError",
     "evalue": "name 'events' is not defined",
     "output_type": "error",
     "traceback": [
      "\u001b[0;31m---------------------------------------------------------------------------\u001b[0m",
      "\u001b[0;31mNameError\u001b[0m                                 Traceback (most recent call last)",
      "\u001b[0;32m<ipython-input-8-2aa7f18aad1d>\u001b[0m in \u001b[0;36m<module>\u001b[0;34m()\u001b[0m\n\u001b[0;32m----> 1\u001b[0;31m \u001b[0mmodel\u001b[0m\u001b[0;34m.\u001b[0m\u001b[0mget_all_event_info\u001b[0m\u001b[0;34m(\u001b[0m\u001b[0mevents\u001b[0m\u001b[0;34m[\u001b[0m\u001b[0;36m0\u001b[0m\u001b[0;34m]\u001b[0m\u001b[0;34m[\u001b[0m\u001b[0;34m'id'\u001b[0m\u001b[0;34m]\u001b[0m\u001b[0;34m,\u001b[0m \u001b[0mme\u001b[0m\u001b[0;34m)\u001b[0m\u001b[0;34m\u001b[0m\u001b[0m\n\u001b[0m",
      "\u001b[0;31mNameError\u001b[0m: name 'events' is not defined"
     ]
    }
   ],
   "source": [
    "model.get_all_event_info(events[0]['id'], me)"
   ]
  },
  {
   "cell_type": "code",
   "execution_count": null,
   "metadata": {
    "collapsed": true
   },
   "outputs": [],
   "source": [
    "e"
   ]
  },
  {
   "cell_type": "code",
   "execution_count": null,
   "metadata": {
    "collapsed": true
   },
   "outputs": [],
   "source": []
  },
  {
   "cell_type": "code",
   "execution_count": null,
   "metadata": {
    "collapsed": true
   },
   "outputs": [],
   "source": []
  },
  {
   "cell_type": "code",
   "execution_count": null,
   "metadata": {
    "collapsed": true
   },
   "outputs": [],
   "source": []
  },
  {
   "cell_type": "code",
   "execution_count": null,
   "metadata": {
    "collapsed": true
   },
   "outputs": [],
   "source": []
  },
  {
   "cell_type": "code",
   "execution_count": null,
   "metadata": {
    "collapsed": true
   },
   "outputs": [],
   "source": []
  },
  {
   "cell_type": "code",
   "execution_count": null,
   "metadata": {
    "collapsed": true
   },
   "outputs": [],
   "source": []
  },
  {
   "cell_type": "code",
   "execution_count": null,
   "metadata": {
    "collapsed": true
   },
   "outputs": [],
   "source": []
  },
  {
   "cell_type": "code",
   "execution_count": null,
   "metadata": {
    "collapsed": true
   },
   "outputs": [],
   "source": []
  },
  {
   "cell_type": "code",
   "execution_count": null,
   "metadata": {
    "collapsed": true
   },
   "outputs": [],
   "source": []
  },
  {
   "cell_type": "code",
   "execution_count": null,
   "metadata": {
    "collapsed": true
   },
   "outputs": [],
   "source": []
  },
  {
   "cell_type": "code",
   "execution_count": null,
   "metadata": {
    "collapsed": true
   },
   "outputs": [],
   "source": []
  },
  {
   "cell_type": "code",
   "execution_count": null,
   "metadata": {
    "collapsed": true
   },
   "outputs": [],
   "source": []
  },
  {
   "cell_type": "code",
   "execution_count": null,
   "metadata": {
    "collapsed": true
   },
   "outputs": [],
   "source": []
  },
  {
   "cell_type": "code",
   "execution_count": null,
   "metadata": {
    "collapsed": true
   },
   "outputs": [],
   "source": []
  }
 ],
 "metadata": {
  "kernelspec": {
   "display_name": "Python 2",
   "language": "python",
   "name": "python2"
  },
  "language_info": {
   "codemirror_mode": {
    "name": "ipython",
    "version": 2
   },
   "file_extension": ".py",
   "mimetype": "text/x-python",
   "name": "python",
   "nbconvert_exporter": "python",
   "pygments_lexer": "ipython2",
   "version": "2.7.11"
  }
 },
 "nbformat": 4,
 "nbformat_minor": 0
}
