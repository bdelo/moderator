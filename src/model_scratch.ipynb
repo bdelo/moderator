{
 "cells": [
  {
   "cell_type": "markdown",
   "metadata": {},
   "source": [
    "# Model scratch\n",
    "\n",
    "Some simple testing stuff. Run this within the virtualenv to test out the configuration. Run all is destructive - don't do this on prod (obv)"
   ]
  },
  {
   "cell_type": "markdown",
   "metadata": {},
   "source": [
    "## Model structure"
   ]
  },
  {
   "cell_type": "code",
   "execution_count": 1,
   "metadata": {
    "collapsed": false,
    "scrolled": true
   },
   "outputs": [
    {
     "name": "stdout",
     "output_type": "stream",
     "text": [
      "\n",
      "question_votes\n",
      "    q_id           INTEGER        \n",
      "    user_email     VARCHAR(127)   \n",
      "    score          INTEGER        \n",
      "\n",
      "users\n",
      "    u_email        VARCHAR(127)   \n",
      "    domain         VARCHAR(127)   \n",
      "    info           JSON           \n",
      "\n",
      "questions\n",
      "    id             BIGINT         \n",
      "    e_id           INTEGER        \n",
      "    flagged        BOOLEAN        \n",
      "    flag_note      JSON           \n",
      "    content        JSON           \n",
      "    score          INTEGER        \n",
      "    comment_count  INTEGER        \n",
      "\n",
      "orgs\n",
      "    domain         VARCHAR(128)   \n",
      "    moderators     JSON           \n",
      "    title          JSON           \n",
      "\n",
      "comment_votes\n",
      "    c_id           INTEGER        \n",
      "    q_id           INTEGER        \n",
      "    user_email     VARCHAR(127)   \n",
      "    score          INTEGER        \n",
      "\n",
      "events\n",
      "    id             BIGINT         \n",
      "    domain         VARCHAR(127)   \n",
      "    owner_email    VARCHAR(127)   \n",
      "    lookup_id      VARCHAR(64)    \n",
      "    moderators     JSON           \n",
      "    title          VARCHAR(255)   \n",
      "    description    JSON           \n",
      "\n",
      "comments\n",
      "    id             BIGINT         \n",
      "    q_id           INTEGER        \n",
      "    owner_email    VARCHAR(127)   \n",
      "    content        JSON           \n",
      "    score          INTEGER        \n",
      "    flagged        BOOLEAN        \n",
      "    flag_note      JSON           \n"
     ]
    }
   ],
   "source": [
    "import model\n",
    "if True:\n",
    "    for t in dict(model.__DB.meta.tables).keys():\n",
    "        table = model.__DB.meta.tables[t]\n",
    "        print \"\\n\", t\n",
    "        for col in table.columns:\n",
    "            print \"    \" + \"\".join(map(lambda s: \"%-15s\" % s, [col.name, str(col.type)]))"
   ]
  },
  {
   "cell_type": "markdown",
   "metadata": {
    "collapsed": false
   },
   "source": [
    "## test script"
   ]
  },
  {
   "cell_type": "code",
   "execution_count": 9,
   "metadata": {
    "collapsed": true
   },
   "outputs": [],
   "source": [
    "first_run = True"
   ]
  },
  {
   "cell_type": "code",
   "execution_count": 2,
   "metadata": {
    "collapsed": false
   },
   "outputs": [],
   "source": [
    "from model import *\n",
    "me = \"david.stein@appboy.com\"\n",
    "if first_run:\n",
    "    Org.create(\"appboy.com\", me)\n",
    "    event = Event.create(\"my test event\", me)\n",
    "    question = Question.create(event['lookup_id'], \"this is my question\")\n",
    "org = Org.get(\"appboy.com\", me)\n",
    "event = Event.get(1, me)\n",
    "question = Question.get(1, me)"
   ]
  },
  {
   "cell_type": "code",
   "execution_count": 3,
   "metadata": {
    "collapsed": false,
    "scrolled": true
   },
   "outputs": [
    {
     "data": {
      "text/plain": [
       "{'comment_count': 0,\n",
       " 'content': u'this is my question',\n",
       " 'e_id': 1,\n",
       " 'flag_note': [],\n",
       " 'flagged': False,\n",
       " 'id': 1L,\n",
       " 'score': 2}"
      ]
     },
     "execution_count": 3,
     "metadata": {},
     "output_type": "execute_result"
    }
   ],
   "source": [
    "Question.vote(question['id'], \"stein@appboy.com\", 1)\n",
    "Question.vote(question['id'], me, 1)"
   ]
  },
  {
   "cell_type": "code",
   "execution_count": 4,
   "metadata": {
    "collapsed": false
   },
   "outputs": [],
   "source": [
    "if first_run:\n",
    "    Comment.create(question['id'], me, \"this is comment one\")\n",
    "    Comment.create(question['id'], \"david@appboy.com\", \"this is comment two\")"
   ]
  },
  {
   "cell_type": "code",
   "execution_count": 10,
   "metadata": {
    "collapsed": true
   },
   "outputs": [],
   "source": [
    "first_run = False"
   ]
  },
  {
   "cell_type": "code",
   "execution_count": 14,
   "metadata": {
    "collapsed": false
   },
   "outputs": [
    {
     "name": "stdout",
     "output_type": "stream",
     "text": [
      "{\n",
      "  \"question\": {\n",
      "    \"flag_note\": [], \n",
      "    \"e_id\": 1, \n",
      "    \"id\": 1, \n",
      "    \"content\": \"this is my question\", \n",
      "    \"comment_count\": 0, \n",
      "    \"score\": 2, \n",
      "    \"flagged\": false\n",
      "  }, \n",
      "  \"comments\": [\n",
      "    {\n",
      "      \"flag_note\": null, \n",
      "      \"q_id\": 1, \n",
      "      \"owner_email\": \"david.stein@appboy.com\", \n",
      "      \"id\": 1, \n",
      "      \"content\": \"this is comment one\", \n",
      "      \"score\": 0, \n",
      "      \"flagged\": null\n",
      "    }, \n",
      "    {\n",
      "      \"flag_note\": null, \n",
      "      \"q_id\": 1, \n",
      "      \"owner_email\": \"david@appboy.com\", \n",
      "      \"id\": 2, \n",
      "      \"content\": \"this is comment two\", \n",
      "      \"score\": 1, \n",
      "      \"flagged\": null\n",
      "    }\n",
      "  ]\n",
      "}\n"
     ]
    }
   ],
   "source": [
    "import json\n",
    "print json.dumps(model.get_all_question_info(question['id'], me), indent=2)"
   ]
  },
  {
   "cell_type": "code",
   "execution_count": 6,
   "metadata": {
    "collapsed": false
   },
   "outputs": [
    {
     "data": {
      "text/plain": [
       "{'content': u'this is comment two',\n",
       " 'flag_note': None,\n",
       " 'flagged': None,\n",
       " 'id': 2L,\n",
       " 'owner_email': u'david@appboy.com',\n",
       " 'q_id': 1,\n",
       " 'score': 1}"
      ]
     },
     "execution_count": 6,
     "metadata": {},
     "output_type": "execute_result"
    }
   ],
   "source": [
    "Comment.vote(question_id=1, comment_id=2, user_email=me, score=1)"
   ]
  },
  {
   "cell_type": "code",
   "execution_count": 15,
   "metadata": {
    "collapsed": false
   },
   "outputs": [],
   "source": [
    "events = model.list_events(me)"
   ]
  },
  {
   "cell_type": "code",
   "execution_count": 17,
   "metadata": {
    "collapsed": false
   },
   "outputs": [
    {
     "name": "stdout",
     "output_type": "stream",
     "text": [
      "{\n",
      "  \"event\": {\n",
      "    \"domain\": \"appboy.com\", \n",
      "    \"description\": \"my test event\", \n",
      "    \"title\": \"my test event\", \n",
      "    \"owner_email\": \"david.stein@appboy.com\", \n",
      "    \"moderators\": [\n",
      "      \"david.stein@appboy.com\"\n",
      "    ], \n",
      "    \"lookup_id\": \"626094d76b8726212ae04111f9220f2\", \n",
      "    \"id\": 1\n",
      "  }, \n",
      "  \"questions\": [\n",
      "    {\n",
      "      \"flag_note\": [], \n",
      "      \"e_id\": 1, \n",
      "      \"flagged\": false, \n",
      "      \"content\": \"this is my question\", \n",
      "      \"comment_count\": 0, \n",
      "      \"score\": 2, \n",
      "      \"id\": 1\n",
      "    }\n",
      "  ]\n",
      "}\n"
     ]
    }
   ],
   "source": [
    "print json.dumps(model.get_all_event_info(events[0]['id'], me), indent=2)"
   ]
  },
  {
   "cell_type": "code",
   "execution_count": 13,
   "metadata": {
    "collapsed": true
   },
   "outputs": [],
   "source": [
    "import flask"
   ]
  },
  {
   "cell_type": "code",
   "execution_count": 14,
   "metadata": {
    "collapsed": true
   },
   "outputs": [],
   "source": [
    "flask.send_from_directory??"
   ]
  },
  {
   "cell_type": "code",
   "execution_count": null,
   "metadata": {
    "collapsed": true
   },
   "outputs": [],
   "source": []
  },
  {
   "cell_type": "code",
   "execution_count": null,
   "metadata": {
    "collapsed": true
   },
   "outputs": [],
   "source": []
  },
  {
   "cell_type": "code",
   "execution_count": null,
   "metadata": {
    "collapsed": true
   },
   "outputs": [],
   "source": []
  },
  {
   "cell_type": "code",
   "execution_count": null,
   "metadata": {
    "collapsed": true
   },
   "outputs": [],
   "source": []
  },
  {
   "cell_type": "code",
   "execution_count": null,
   "metadata": {
    "collapsed": true
   },
   "outputs": [],
   "source": []
  },
  {
   "cell_type": "code",
   "execution_count": null,
   "metadata": {
    "collapsed": true
   },
   "outputs": [],
   "source": []
  },
  {
   "cell_type": "code",
   "execution_count": null,
   "metadata": {
    "collapsed": true
   },
   "outputs": [],
   "source": []
  },
  {
   "cell_type": "code",
   "execution_count": null,
   "metadata": {
    "collapsed": true
   },
   "outputs": [],
   "source": []
  },
  {
   "cell_type": "code",
   "execution_count": null,
   "metadata": {
    "collapsed": true
   },
   "outputs": [],
   "source": []
  },
  {
   "cell_type": "code",
   "execution_count": null,
   "metadata": {
    "collapsed": true
   },
   "outputs": [],
   "source": []
  },
  {
   "cell_type": "code",
   "execution_count": null,
   "metadata": {
    "collapsed": true
   },
   "outputs": [],
   "source": []
  },
  {
   "cell_type": "code",
   "execution_count": null,
   "metadata": {
    "collapsed": true
   },
   "outputs": [],
   "source": []
  }
 ],
 "metadata": {
  "kernelspec": {
   "display_name": "Python 2",
   "language": "python",
   "name": "python2"
  },
  "language_info": {
   "codemirror_mode": {
    "name": "ipython",
    "version": 2
   },
   "file_extension": ".py",
   "mimetype": "text/x-python",
   "name": "python",
   "nbconvert_exporter": "python",
   "pygments_lexer": "ipython2",
   "version": "2.7.13"
  }
 },
 "nbformat": 4,
 "nbformat_minor": 0
}
